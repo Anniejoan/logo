{
 "cells": [
  {
   "cell_type": "code",
   "execution_count": 0,
   "metadata": {
    "colab": {},
    "colab_type": "code",
    "id": "Rqjq1PsUKPJX"
   },
   "outputs": [],
   "source": [
    "# Importing the fastai library\n",
    "from fastai import *\n",
    "from fastai.vision import *\n",
    "from fastai2.vision.core import *\n",
    "\n",
    "# Improting Ipython widgets\n",
    "import ipywidgets\n",
    "from ipywidgets import widgets, VBox\n",
    "from types import SimpleNamespace\n",
    "import warnings\n",
    "warnings. filterwarnings('ignore')"
   ]
  },
  {
   "cell_type": "code",
   "execution_count": 0,
   "metadata": {
    "colab": {},
    "colab_type": "code",
    "id": "b0xi3eVb2VuA"
   },
   "outputs": [],
   "source": [
    "# ! git clone --quiet https://github.com/Anniejoan/logo.git\n",
    "# os.chdir('logo')"
   ]
  },
  {
   "cell_type": "markdown",
   "metadata": {
    "colab_type": "text",
    "id": "j83KwDhs2ft5"
   },
   "source": [
    "move the .pkl file to gdrive. I am going to use mine"
   ]
  },
  {
   "cell_type": "code",
   "execution_count": 0,
   "metadata": {
    "colab": {},
    "colab_type": "code",
    "id": "QG3vl31nEuoq"
   },
   "outputs": [],
   "source": [
    "def create_path(path):\n",
    "    if not os.path.isdir(path):\n",
    "        path.mkdir(parents=True, exist_ok=True)\n",
    "    return path"
   ]
  },
  {
   "cell_type": "code",
   "execution_count": 0,
   "metadata": {
    "colab": {},
    "colab_type": "code",
    "id": "GdKS3nNT0IKp"
   },
   "outputs": [],
   "source": [
    "# from google.colab import drive\n",
    "# drive.mount('/content/drive')\n",
    "# root_dir = Path('/content/drive/My Drive')\n",
    "# base_path = create_path(root_dir/'Temp')\n",
    "# base_path"
   ]
  },
  {
   "cell_type": "code",
   "execution_count": 0,
   "metadata": {
    "colab": {},
    "colab_type": "code",
    "id": "_dxn5Ydg3YCu"
   },
   "outputs": [],
   "source": [
    "# shutil.copy2('/content/logo/export.pkl', base_path)"
   ]
  },
  {
   "cell_type": "markdown",
   "metadata": {
    "colab_type": "text",
    "id": "an30hikV359h"
   },
   "source": [
    "Use the id of the file in gdrive to download it"
   ]
  },
  {
   "cell_type": "code",
   "execution_count": 0,
   "metadata": {
    "colab": {},
    "colab_type": "code",
    "id": "bMI-55ba4KNI"
   },
   "outputs": [],
   "source": [
    "# os.chdir('/content')"
   ]
  },
  {
   "cell_type": "code",
   "execution_count": 0,
   "metadata": {
    "colab": {},
    "colab_type": "code",
    "id": "F1JsONrF4UHt"
   },
   "outputs": [],
   "source": [
    "os.mkdir('models')\n",
    "#create_path('models/')"
   ]
  },
  {
   "cell_type": "code",
   "execution_count": 0,
   "metadata": {
    "colab": {},
    "colab_type": "code",
    "id": "DszSKfeY4Dy_"
   },
   "outputs": [],
   "source": [
    "!git clone --quiet 'https://github.com/tezike/download_google_drive.git'\n",
    "os.chdir('download_google_drive')\n",
    "!python download_gdrive.py '1-BeuR9PnMOcyp_GooE3ITajpmSHI-13Q' '../export.pkl'\n",
    "shutil.rmtree('../download_google_drive')\n",
    "os.chdir('..')"
   ]
  },
  {
   "cell_type": "markdown",
   "metadata": {},
   "source": [
    "downloaded pickl file"
   ]
  },
  {
   "cell_type": "code",
   "execution_count": null,
   "metadata": {},
   "outputs": [],
   "source": [
    "path = Path()\n",
    "learn_inf = load_learner(path, file='export.pkl')\n",
    "btn_upload = widgets.FileUpload()\n",
    "out_pl = widgets.Output()\n",
    "lbl_pred = widgets.Label()"
   ]
  },
  {
   "cell_type": "markdown",
   "metadata": {},
   "source": [
    "path okay"
   ]
  },
  {
   "cell_type": "code",
   "execution_count": null,
   "metadata": {},
   "outputs": [],
   "source": [
    "def open_image_(img, div:bool=True, convert_mode:str='RGB', cls:type=vision.Image,\n",
    "        after_open:Callable=None)->Image:\n",
    "    if after_open: img = after_open(img)\n",
    "    x = pil2tensor(img,np.float32)\n",
    "    if div: x.div_(255)\n",
    "    return cls(x)"
   ]
  },
  {
   "cell_type": "code",
   "execution_count": 0,
   "metadata": {
    "colab": {},
    "colab_type": "code",
    "id": "nWy1NVgSLcY3"
   },
   "outputs": [],
   "source": [
    "def on_click(change):\n",
    "    img = PILImage.create(btn_upload.data[-1])\n",
    "    # img = upload.data[-1]\n",
    "    out_pl.clear_output()\n",
    "    with out_pl: display(img.to_thumb(128))\n",
    "    pred,pred_idx,probs = learn_inf.predict(open_image_(img.to_thumb(480)))\n",
    "    lbl_pred.value = f'Prediction: {pred}; Probability: {probs[pred_idx]:.04f}'"
   ]
  },
  {
   "cell_type": "code",
   "execution_count": 0,
   "metadata": {
    "colab": {},
    "colab_type": "code",
    "id": "S9vkmrDT5fbk"
   },
   "outputs": [],
   "source": [
    "# upload = SimpleNamespace(data = [open_image('')])"
   ]
  },
  {
   "cell_type": "code",
   "execution_count": 0,
   "metadata": {
    "colab": {},
    "colab_type": "code",
    "id": "eI_XGDi_Lf7Z"
   },
   "outputs": [],
   "source": [
    "btn_upload.observe(on_click, names=['data'])"
   ]
  },
  {
   "cell_type": "code",
   "execution_count": 0,
   "metadata": {
    "colab": {},
    "colab_type": "code",
    "id": "CWl1qH2MLmDL"
   },
   "outputs": [],
   "source": [
    "display(VBox([widgets.Label('Select your brand logo!'), btn_upload, out_pl, lbl_pred]))"
   ]
  },
  {
   "cell_type": "code",
   "execution_count": 0,
   "metadata": {
    "colab": {},
    "colab_type": "code",
    "id": "BFUzDWby4v1M"
   },
   "outputs": [],
   "source": []
  }
 ],
 "metadata": {
  "colab": {
   "collapsed_sections": [],
   "name": "brand_logo_detector.ipynb",
   "provenance": []
  },
  "kernelspec": {
   "display_name": "Python 3",
   "language": "python",
   "name": "python3"
  },
  "language_info": {
   "codemirror_mode": {
    "name": "ipython",
    "version": 3
   },
   "file_extension": ".py",
   "mimetype": "text/x-python",
   "name": "python",
   "nbconvert_exporter": "python",
   "pygments_lexer": "ipython3",
   "version": "3.7.4"
  }
 },
 "nbformat": 4,
 "nbformat_minor": 1
}
